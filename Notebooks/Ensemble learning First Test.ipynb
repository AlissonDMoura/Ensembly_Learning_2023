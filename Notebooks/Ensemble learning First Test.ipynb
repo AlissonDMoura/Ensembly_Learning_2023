{
 "cells": [
  {
   "cell_type": "code",
   "execution_count": 48,
   "id": "75da6018",
   "metadata": {},
   "outputs": [],
   "source": [
    "import os\n",
    "import numpy as np\n",
    "from keras.models import load_model\n",
    "from tensorflow.keras.preprocessing import image\n",
    "from keras.preprocessing.image import ImageDataGenerator\n",
    "\n"
   ]
  },
  {
   "cell_type": "markdown",
   "id": "0f9e9ab7",
   "metadata": {},
   "source": [
    "### This is a test with the models trained with ensembly before being tunned properly.\n",
    "### At the end of this notebook A discovery was done regarding the magnetude of results in a model\n",
    "### which directed the developer to use this approach as a filter instead of a identifyer. "
   ]
  },
  {
   "cell_type": "code",
   "execution_count": null,
   "id": "85516b48",
   "metadata": {},
   "outputs": [],
   "source": [
    "\n",
    "# Path to the directory containing all the models\n",
    "models_path = r'C:\\Users\\aliss\\Documents\\last Semester\\Industry Project\\dataset\\Digiface\\Models'\n",
    "\n",
    "# Function to load all the saved models\n",
    "def load_models(models_path):\n",
    "    models = {}\n",
    "    for model_file in os.listdir(models_path):\n",
    "        if model_file.endswith('.h5'):\n",
    "            class_name = model_file.split('_')[0]\n",
    "            model_path = os.path.join(models_path, model_file)\n",
    "            models[class_name] = load_model(model_path)\n",
    "    return models\n",
    "\n",
    "# Function to test an image against all the models and return the top three class predictions\n",
    "def test_image(image_path, models):\n",
    "    img = image.load_img(image_path, target_size=(112, 112))\n",
    "    x = image.img_to_array(img)\n",
    "    x = np.expand_dims(x, axis=0)\n",
    "    x = x/255.0\n",
    "\n",
    "    class_probs = {}\n",
    "    for class_name, model in models.items():\n",
    "        preds = model.predict(x)\n",
    "        class_probs[class_name] = preds[0][np.argmax(preds)]\n",
    "        \n",
    "    top3 = sorted(class_probs.items(), key=lambda x: x[1], reverse=True)[:3]\n",
    "    return top3\n"
   ]
  },
  {
   "cell_type": "code",
   "execution_count": 33,
   "id": "6b138059",
   "metadata": {},
   "outputs": [],
   "source": [
    "# Load all the models\n",
    "models = load_models(models_path)"
   ]
  },
  {
   "cell_type": "code",
   "execution_count": 45,
   "id": "d0e1b3f7",
   "metadata": {},
   "outputs": [
    {
     "name": "stdout",
     "output_type": "stream",
     "text": [
      "1/1 [==============================] - 0s 24ms/step\n"
     ]
    },
    {
     "data": {
      "text/plain": [
       "[('batch', 0.46584833)]"
      ]
     },
     "execution_count": 45,
     "metadata": {},
     "output_type": "execute_result"
    }
   ],
   "source": [
    "# Path to the image to test\n",
    "image_path = r'C:\\Users\\aliss\\Documents\\last Semester\\Industry Project\\dataset\\Digiface\\framework validation\\0.png'\n",
    "\n",
    "# Test the image against all the models and get the top three class predictions\n",
    "test_image(image_path,models)"
   ]
  },
  {
   "cell_type": "code",
   "execution_count": 46,
   "id": "eb81aa14",
   "metadata": {},
   "outputs": [
    {
     "name": "stdout",
     "output_type": "stream",
     "text": [
      "1/1 [==============================] - 0s 82ms/step\n",
      "[[9.87707913e-01 3.92032098e-06 3.60199266e-08 9.21862586e-09\n",
      "  9.88033789e-05 1.01501293e-07 5.42127382e-05 3.23755273e-10\n",
      "  1.12770041e-02 1.15930035e-11 3.79857171e-04 1.17611991e-04\n",
      "  3.13443110e-07 1.61204539e-11 1.98927773e-06 5.72270874e-05\n",
      "  2.79186643e-04 4.99610908e-10 2.10470480e-05 6.40810924e-07]]\n"
     ]
    }
   ],
   "source": [
    "from tensorflow.keras.preprocessing import image\n",
    "import numpy as np\n",
    "\n",
    "# Load the model\n",
    "model = load_model(r'C:\\Users\\aliss\\Documents\\last Semester\\Industry Project\\dataset\\Digiface\\Models\\batch_1.h5')\n",
    "\n",
    "# Load the image\n",
    "img = image.load_img(r'C:\\Users\\aliss\\Documents\\last Semester\\Industry Project\\dataset\\Digiface\\framework validation\\0.png', target_size=(112, 112))\n",
    "\n",
    "# Convert the image to a numpy array\n",
    "x = image.img_to_array(img)\n",
    "\n",
    "# Expand the dimensions of the image array to match the input shape of the model\n",
    "x = np.expand_dims(x, axis=0)\n",
    "\n",
    "# Normalize the image data to values between 0 and 1\n",
    "x = x/255.0\n",
    "\n",
    "# Make a prediction on the image using the model\n",
    "preds = model.predict(x)\n",
    "\n",
    "# Print the prediction\n",
    "print(preds)\n"
   ]
  },
  {
   "cell_type": "code",
   "execution_count": 49,
   "id": "fad80273",
   "metadata": {},
   "outputs": [
    {
     "ename": "AttributeError",
     "evalue": "'Sequential' object has no attribute 'class_indices'",
     "output_type": "error",
     "traceback": [
      "\u001b[1;31m---------------------------------------------------------------------------\u001b[0m",
      "\u001b[1;31mAttributeError\u001b[0m                            Traceback (most recent call last)",
      "Input \u001b[1;32mIn [49]\u001b[0m, in \u001b[0;36m<cell line: 1>\u001b[1;34m()\u001b[0m\n\u001b[1;32m----> 1\u001b[0m class_labels \u001b[38;5;241m=\u001b[39m \u001b[38;5;28mlist\u001b[39m(\u001b[43mmodel\u001b[49m\u001b[38;5;241;43m.\u001b[39;49m\u001b[43mclass_indices\u001b[49m\u001b[38;5;241m.\u001b[39mkeys())\n",
      "\u001b[1;31mAttributeError\u001b[0m: 'Sequential' object has no attribute 'class_indices'"
     ]
    }
   ],
   "source": [
    "class_labels = list(model.class_indices.keys())"
   ]
  },
  {
   "cell_type": "code",
   "execution_count": 57,
   "id": "62808ef9",
   "metadata": {},
   "outputs": [
    {
     "name": "stdout",
     "output_type": "stream",
     "text": [
      "1/1 [==============================] - 0s 100ms/step\n"
     ]
    },
    {
     "ename": "AttributeError",
     "evalue": "'Sequential' object has no attribute 'class_indices'",
     "output_type": "error",
     "traceback": [
      "\u001b[1;31m---------------------------------------------------------------------------\u001b[0m",
      "\u001b[1;31mAttributeError\u001b[0m                            Traceback (most recent call last)",
      "Input \u001b[1;32mIn [57]\u001b[0m, in \u001b[0;36m<cell line: 14>\u001b[1;34m()\u001b[0m\n\u001b[0;32m     11\u001b[0m predicted_labels \u001b[38;5;241m=\u001b[39m model\u001b[38;5;241m.\u001b[39mpredict(dummy_x)\n\u001b[0;32m     13\u001b[0m \u001b[38;5;66;03m# Convert the predicted labels to their corresponding class names\u001b[39;00m\n\u001b[1;32m---> 14\u001b[0m class_indices \u001b[38;5;241m=\u001b[39m \u001b[43mmodel\u001b[49m\u001b[38;5;241;43m.\u001b[39;49m\u001b[43mclass_indices\u001b[49m\n\u001b[0;32m     15\u001b[0m class_names \u001b[38;5;241m=\u001b[39m [k \u001b[38;5;28;01mfor\u001b[39;00m k, v \u001b[38;5;129;01min\u001b[39;00m class_indices\u001b[38;5;241m.\u001b[39mitems() \u001b[38;5;28;01mif\u001b[39;00m v \u001b[38;5;241m==\u001b[39m np\u001b[38;5;241m.\u001b[39margmax(predicted_labels)]\n",
      "\u001b[1;31mAttributeError\u001b[0m: 'Sequential' object has no attribute 'class_indices'"
     ]
    }
   ],
   "source": [
    "### from keras.models import load_model\n",
    "import numpy as np\n",
    "\n",
    "# Load the model\n",
    "model = load_model(r'C:\\Users\\aliss\\Documents\\last Semester\\Industry Project\\dataset\\Digiface\\Models\\batch_1.h5')\n",
    "\n",
    "# Create a dummy dataset with one sample per class\n",
    "dummy_x = np.zeros((20, 112, 112, 3))\n",
    "\n",
    "# Use the predict method of the model to obtain the predicted labels for each sample\n",
    "predicted_labels = model.predict(dummy_x)\n",
    "\n",
    "# Convert the predicted labels to their corresponding class names\n",
    "class_indices = model.class_indices\n",
    "class_names = [k for k, v in class_indices.items() if v == np.argmax(predicted_labels)]"
   ]
  },
  {
   "cell_type": "code",
   "execution_count": 52,
   "id": "eb76fbd6",
   "metadata": {},
   "outputs": [
    {
     "data": {
      "text/plain": [
       "array([ 1,  0, 12, 15, 19, 13,  3, 17,  9,  0, 15, 15, 19,  5, 10, 12, 15,\n",
       "       16,  7, 15, 19, 17, 12, 10,  7, 14, 14, 16, 11, 19,  7, 11, 18, 18,\n",
       "        8,  1,  7,  0,  2,  9, 15,  4, 15,  6, 19,  4,  0,  1, 19,  7,  5,\n",
       "       13,  1, 18, 13, 17,  7, 10, 15,  4, 16, 10,  2,  0,  9,  9, 10, 17,\n",
       "       12, 16, 11, 10, 18, 19, 13, 18,  4, 15, 16, 11, 15, 16,  7,  5, 18,\n",
       "        2,  0,  2,  1,  8,  6, 17, 10,  5, 10, 10, 18, 11, 15, 18, 15,  2,\n",
       "        3,  4,  6, 10,  9,  5, 10,  4,  1, 17,  1,  6, 12,  6, 13, 10, 18,\n",
       "        7,  0,  5, 13,  7,  6,  8, 17,  4,  3,  0, 12,  0, 14,  5, 14,  3,\n",
       "       14, 14,  9, 15,  8,  1,  2,  0,  7,  9, 19,  9,  5,  2, 10, 13, 15,\n",
       "        3,  3, 19, 19, 19, 14, 14,  7,  0, 14,  4,  3, 13,  9, 10,  8,  7,\n",
       "       17, 10, 17, 19, 10, 13,  4,  6,  9,  9, 13,  9, 13, 10, 14, 19, 16,\n",
       "        2,  4,  4,  8, 16, 15, 10,  3, 15,  6, 19,  7,  0, 13,  4, 15,  5,\n",
       "        9, 10, 11, 19, 14, 11,  1,  2, 14, 19,  7, 14, 16,  1,  3,  5,  8,\n",
       "        6, 14, 13, 11, 12,  1,  5, 15, 15,  0, 18,  1,  4,  8,  1,  9,  5,\n",
       "       11,  0, 18, 18, 12,  5,  6, 14, 19,  6,  5, 10, 13, 11,  0,  0, 14,\n",
       "        0], dtype=int64)"
      ]
     },
     "execution_count": 52,
     "metadata": {},
     "output_type": "execute_result"
    }
   ],
   "source": [
    "class_labels"
   ]
  },
  {
   "cell_type": "code",
   "execution_count": null,
   "id": "a180f14c",
   "metadata": {},
   "outputs": [],
   "source": []
  }
 ],
 "metadata": {
  "kernelspec": {
   "display_name": "Python 3 (ipykernel)",
   "language": "python",
   "name": "python3"
  },
  "language_info": {
   "codemirror_mode": {
    "name": "ipython",
    "version": 3
   },
   "file_extension": ".py",
   "mimetype": "text/x-python",
   "name": "python",
   "nbconvert_exporter": "python",
   "pygments_lexer": "ipython3",
   "version": "3.9.12"
  }
 },
 "nbformat": 4,
 "nbformat_minor": 5
}
