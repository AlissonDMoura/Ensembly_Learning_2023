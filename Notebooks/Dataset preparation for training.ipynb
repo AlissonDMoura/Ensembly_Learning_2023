{
 "cells": [
  {
   "cell_type": "code",
   "execution_count": 3,
   "id": "b93bc1c4",
   "metadata": {},
   "outputs": [],
   "source": [
    "import os\n",
    "import shutil\n",
    "\n",
    "dataset_path = 'C:/Users/aliss/OneDrive/Área de Trabalho/last Semester/Industry Project/dataset/Digiface/Dataset'\n",
    "validation_path = 'C:/Users/aliss/OneDrive/Área de Trabalho/last Semester/Industry Project/dataset/Digiface/framework validation'\n",
    "\n",
    "for folder in os.listdir(dataset_path):\n",
    "    folder_path = os.path.join(dataset_path, folder)\n",
    "    validation_folder_path = os.path.join(validation_path, folder)\n",
    "    os.makedirs(validation_folder_path, exist_ok=True)\n",
    "    image_list = os.listdir(folder_path)\n",
    "    for i in range(0, len(image_list), 7):\n",
    "        image_name = image_list[i]\n",
    "        image_path = os.path.join(folder_path, image_name)\n",
    "        new_image_name = os.path.splitext(image_name)[0] + '_' + folder + os.path.splitext(image_name)[1]\n",
    "        new_image_path = os.path.join(validation_folder_path, new_image_name)\n",
    "        shutil.move(image_path, new_image_path)\n"
   ]
  },
  {
   "cell_type": "markdown",
   "id": "66c18485",
   "metadata": {},
   "source": [
    "### This code was the preparation for the folders in the database to be operated wheter in full or in separate classes\n",
    "### this is of vital importance to be done before any data training."
   ]
  },
  {
   "cell_type": "code",
   "execution_count": 4,
   "id": "59affd22",
   "metadata": {},
   "outputs": [],
   "source": [
    "import os\n",
    "import shutil\n",
    "\n",
    "validation_folder = \"C:/Users/aliss/OneDrive/Área de Trabalho/last Semester/Industry Project/dataset/Digiface/framework validation/\"\n",
    "\n",
    "for folder in os.listdir(validation_folder):\n",
    "    folder_path = os.path.join(validation_folder, folder)\n",
    "    for image_file in os.listdir(folder_path):\n",
    "        image_path = os.path.join(folder_path, image_file)\n",
    "        dest_path = os.path.join(\"C:/Users/aliss/OneDrive/Área de Trabalho/last Semester/Industry Project/dataset/Digiface/Dataset\", folder, image_file)\n",
    "        shutil.move(image_path, dest_path)\n",
    "    \n",
    "    # Remove the validation folder of the current folder\n",
    "    shutil.rmtree(folder_path)\n"
   ]
  },
  {
   "cell_type": "code",
   "execution_count": 5,
   "id": "9eff0855",
   "metadata": {},
   "outputs": [],
   "source": [
    "import os\n",
    "import shutil\n",
    "\n",
    "# Set the paths\n",
    "dataset_path = 'C:/Users/aliss/OneDrive/Área de Trabalho/last Semester/Industry Project/dataset/Digiface/Dataset'\n",
    "validation_path = 'C:/Users/aliss/OneDrive/Área de Trabalho/last Semester/Industry Project/dataset/Digiface/framework validation'\n",
    "\n",
    "# Create the \"framework validation\" folder if it doesn't exist\n",
    "if not os.path.exists(validation_path):\n",
    "    os.mkdir(validation_path)\n",
    "\n",
    "# Loop through each folder in the dataset\n",
    "for folder_name in os.listdir(dataset_path):\n",
    "    folder_path = os.path.join(dataset_path, folder_name)\n",
    "    \n",
    "    # Only consider folders\n",
    "    if os.path.isdir(folder_path):\n",
    "        # Get the path of the first image in the folder\n",
    "        image_name = os.listdir(folder_path)[0]\n",
    "        image_path = os.path.join(folder_path, image_name)\n",
    "        \n",
    "        # Rename the image with the folder name\n",
    "        new_image_name = folder_name + '.png'\n",
    "        new_image_path = os.path.join(validation_path, new_image_name)\n",
    "        \n",
    "        # Move the image to the validation folder\n",
    "        shutil.move(image_path, new_image_path)"
   ]
  },
  {
   "cell_type": "code",
   "execution_count": 6,
   "id": "db9595e7",
   "metadata": {},
   "outputs": [],
   "source": [
    "import os\n",
    "import shutil\n",
    "\n",
    "dataset_path = \"C:/Users/aliss/OneDrive/Área de Trabalho/last Semester/Industry Project/dataset/Digiface/Dataset\"\n",
    "num_subfolders = 20\n",
    "num_folders_per_superfolder = 100\n",
    "\n",
    "folders = os.listdir(dataset_path)\n",
    "\n",
    "for i in range(num_folders_per_superfolder):\n",
    "    # create a new folder for the current batch of subfolders\n",
    "    superfolder_path = os.path.join(dataset_path, f\"batch_{i+1}\")\n",
    "    os.makedirs(superfolder_path, exist_ok=True)\n",
    "    \n",
    "    # select the subfolders for the current batch\n",
    "    start_index = i * num_subfolders\n",
    "    end_index = start_index + num_subfolders\n",
    "    subfolders = folders[start_index:end_index]\n",
    "    \n",
    "    # move the subfolders to the current batch folder\n",
    "    for subfolder in subfolders:\n",
    "        subfolder_path = os.path.join(dataset_path, subfolder)\n",
    "        shutil.move(subfolder_path, superfolder_path)"
   ]
  },
  {
   "cell_type": "code",
   "execution_count": null,
   "id": "e0baff49",
   "metadata": {},
   "outputs": [],
   "source": []
  }
 ],
 "metadata": {
  "kernelspec": {
   "display_name": "Python 3 (ipykernel)",
   "language": "python",
   "name": "python3"
  },
  "language_info": {
   "codemirror_mode": {
    "name": "ipython",
    "version": 3
   },
   "file_extension": ".py",
   "mimetype": "text/x-python",
   "name": "python",
   "nbconvert_exporter": "python",
   "pygments_lexer": "ipython3",
   "version": "3.9.12"
  }
 },
 "nbformat": 4,
 "nbformat_minor": 5
}
